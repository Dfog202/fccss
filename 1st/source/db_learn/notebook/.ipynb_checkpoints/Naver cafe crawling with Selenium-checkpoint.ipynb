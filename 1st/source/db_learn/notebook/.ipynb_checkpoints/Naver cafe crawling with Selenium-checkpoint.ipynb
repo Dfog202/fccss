{
 "cells": [
  {
   "cell_type": "markdown",
   "metadata": {},
   "source": [
    "https://github.com/SeleniumHQ/selenium/\n",
    "http://selenium-python.readthedocs.io/\n",
    "\n",
    "\n",
    "FileNotFoundError: [Errno 2] No such file or directory: 'geckodriver'\n",
    "\n",
    "https://github.com/mozilla/geckodriver/releases\n",
    "\n",
    "place it in /usr/bin or /usr/local/bin"
   ]
  },
  {
   "cell_type": "code",
   "execution_count": 18,
   "metadata": {
    "collapsed": true
   },
   "outputs": [],
   "source": [
    "import os\n",
    "from selenium import webdriver\n",
    "from selenium.webdriver.support.ui import WebDriverWait\n",
    "from selenium.webdriver.support import expected_conditions as EC\n",
    "from selenium.webdriver.common.by import By"
   ]
  },
  {
   "cell_type": "code",
   "execution_count": 11,
   "metadata": {
    "collapsed": true
   },
   "outputs": [],
   "source": [
    "ff_driver = webdriver.Firefox()\n",
    "ff_driver.get(\"https://www.google.co.kr/\")\n",
    "\n",
    "query = ff_driver.find_element_by_id(\"lst-ib\")\n",
    "query.send_keys(\"패스트캠퍼스\")\n",
    "\n",
    "ff_driver.find_element_by_name(\"btnK\").click()\n",
    "ff_driver.implicitly_wait(10)"
   ]
  },
  {
   "cell_type": "code",
   "execution_count": 19,
   "metadata": {
    "collapsed": false
   },
   "outputs": [
    {
     "name": "stdout",
     "output_type": "stream",
     "text": [
      "패스트캠퍼스 | 커리어 성장을 위한 최고의 실무교육 아카데미\n",
      "패스트캠퍼스 | Facebook\n",
      "패스트캠퍼스 School | Facebook\n",
      "패스트캠퍼스 기업, 투자 정보 | 로켓펀치 - 스타트업 네트워크\n",
      "패스트캠퍼스 (@fastcampus) | Twitter\n",
      "패스트캠퍼스 27건 기업리뷰, 26건 연봉정보, 12건 면접후기 | 잡플래닛\n",
      "준비된 인재와 회사를 연결하는 곳, '패스트캠퍼스' - 인벤\n"
     ]
    }
   ],
   "source": [
    "RESULTS_LOCATOR = \"//div/h3/a\"\n",
    "WebDriverWait(ff_driver, 10).until(\n",
    "    EC.visibility_of_element_located((By.XPATH, RESULTS_LOCATOR)))\n",
    "page1_results = ff_driver.find_elements(By.XPATH, RESULTS_LOCATOR)\n",
    "for item in page1_results:\n",
    "    print(item.text)"
   ]
  },
  {
   "cell_type": "code",
   "execution_count": 38,
   "metadata": {
    "collapsed": false
   },
   "outputs": [],
   "source": [
    "ff_driver = webdriver.Firefox()\n",
    "ff_driver.get(\"https://nid.naver.com/nidlogin.login\")\n",
    "\n",
    "ff_driver.implicitly_wait(10)\n",
    "\n",
    "username = ff_driver.find_element_by_id(\"id\")\n",
    "password = ff_driver.find_element_by_id(\"pw\")\n",
    "\n",
    "username.send_keys(\"wychoi0408\")\n",
    "password.send_keys(\"xmtr32!!\")\n",
    "\n",
    "ff_driver.find_element_by_class_name(\"btn_global\").click()\n",
    "ff_driver.implicitly_wait(10)"
   ]
  },
  {
   "cell_type": "code",
   "execution_count": 39,
   "metadata": {
    "collapsed": false
   },
   "outputs": [],
   "source": [
    "ff_driver.get(\"http://cafe.naver.com/joonggonara\")"
   ]
  },
  {
   "cell_type": "code",
   "execution_count": 40,
   "metadata": {
    "collapsed": false
   },
   "outputs": [],
   "source": [
    "query = \"미러리스\"\n",
    "ff_driver.find_element_by_css_selector(\"#topLayerQueryInput\").send_keys(query)"
   ]
  },
  {
   "cell_type": "code",
   "execution_count": 41,
   "metadata": {
    "collapsed": true
   },
   "outputs": [],
   "source": [
    "ff_driver.execute_script(\"searchBoard();\")"
   ]
  },
  {
   "cell_type": "code",
   "execution_count": 42,
   "metadata": {
    "collapsed": false
   },
   "outputs": [],
   "source": [
    "ff_driver.switch_to_frame(ff_driver.find_element_by_css_selector(\"iframe#cafe_main\"))\n",
    "post_elements = ff_driver.find_elements(By.TAG_NAME, \"td.board-list\")"
   ]
  },
  {
   "cell_type": "code",
   "execution_count": 43,
   "metadata": {
    "collapsed": false
   },
   "outputs": [
    {
     "data": {
      "text/plain": [
       "15"
      ]
     },
     "execution_count": 43,
     "metadata": {},
     "output_type": "execute_result"
    }
   ],
   "source": [
    "len(post_elements)"
   ]
  },
  {
   "cell_type": "code",
   "execution_count": 45,
   "metadata": {
    "collapsed": false
   },
   "outputs": [
    {
     "name": "stdout",
     "output_type": "stream",
     "text": [
      "캐논 미러리스 15-45mm렌즈만판매합니다.22mm단렌즈와 교환도가능해요\n",
      "소니 미러리스 A6000 번들렌즈 43만에 팔아요\n",
      "캐논 파워샷 N2 S급 판매합니다(풀박)\n",
      "1 니콘 VR 10-30/F3.5-5.6 PD-ZOOM 렌즈 니콘 미러리스 렌즈\n",
      "소니 미러리스 카메라 NEX-3N 화이트 판매해요 손예진 카메라\n",
      "캐논DSLR 600D 풀세트 판매합니다(기스, 찍힘없음) [2]\n",
      "소니렌즈. SEL50F14Z. SEL2470Z. SEL55F18Z. SEL2870. SEL24F18Z. SEL50F18 판매\n",
      "판매완료 [7]\n",
      "소니 정품 f7s NEX 미러리스용 외장플래시 미사용품 팝니다\n",
      ".\n",
      "캐논 EOS50D + 18-55번들\n",
      "소니 a6000 + 시그마 30mm f1.4 일괄판매 구매한지 한달됨 [1]\n",
      "Sony Nex5 미러리스 팝니다.\n",
      "중고책입니다. 2\n",
      "판매중) 소니 하이엔드 rx100 mk4/ 소니 미러리스 a6000 처분합니다.\n"
     ]
    }
   ],
   "source": [
    "for item in post_elements:\n",
    "    print(item.text)"
   ]
  },
  {
   "cell_type": "code",
   "execution_count": null,
   "metadata": {
    "collapsed": true
   },
   "outputs": [],
   "source": []
  }
 ],
 "metadata": {
  "kernelspec": {
   "display_name": "Python 3",
   "language": "python",
   "name": "python3"
  },
  "language_info": {
   "codemirror_mode": {
    "name": "ipython",
    "version": 3
   },
   "file_extension": ".py",
   "mimetype": "text/x-python",
   "name": "python",
   "nbconvert_exporter": "python",
   "pygments_lexer": "ipython3",
   "version": "3.6.0"
  }
 },
 "nbformat": 4,
 "nbformat_minor": 2
}
