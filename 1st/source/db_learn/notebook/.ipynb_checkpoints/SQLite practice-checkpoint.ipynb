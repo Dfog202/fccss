{
 "cells": [
  {
   "cell_type": "markdown",
   "metadata": {},
   "source": [
    "## SQLite\n",
    "```\n",
    "$ sqlite3 user.db\n",
    "\n",
    "> CREATE TABLE user (\n",
    "> id integer primary key autoincrement,\n",
    "> name text not null,\n",
    "> age integer,\n",
    "> lang text);\n",
    "\n",
    "> INSERT INTO user ( name, age, lang)\n",
    "> VALUES ('Sam Smith', 27, 'python');\n",
    "\n",
    "> .tables\n",
    "user\n",
    "> SELECT * FROM user;\n",
    "1|Sam Smith|27|python\n",
    ">.exit\n",
    "```"
   ]
  },
  {
   "cell_type": "code",
   "execution_count": 4,
   "metadata": {
    "collapsed": false,
    "deletable": true,
    "editable": true
   },
   "outputs": [
    {
     "name": "stdout",
     "output_type": "stream",
     "text": [
      "DB Connected!!\n",
      "\n",
      "(1, 'Sam Smith', 24, 'english')\n",
      "(2, 'Mary Jane', 21, 'clang')\n",
      "(3, 'Tony Stark', 50, 'jarvis')\n",
      "(4, 'Steve Rogers', 32, 'english')\n",
      "(5, 'Taehwan Yang', 35, 'cplus')\n"
     ]
    }
   ],
   "source": [
    "#import sqlite3\n",
    "import sqlite3 as lite\n",
    "\n",
    "\n",
    "#db connect\n",
    "conn = lite.connect('../users.db')\n",
    "print(\"DB Connected!!\\n\")\n",
    "#create cursor from connection\n",
    "cur = conn.cursor()\n",
    "#execute sql query \n",
    "cur.execute(\"select * from users\")\n",
    "\n",
    "# fetch data\n",
    "rows = cur.fetchall()\n",
    "for row in rows:\n",
    "    print(row)\n",
    "    \n",
    "# close the connection\n",
    "conn.close()"
   ]
  },
  {
   "cell_type": "code",
   "execution_count": 2,
   "metadata": {
    "collapsed": false,
    "deletable": true,
    "editable": true,
    "scrolled": false
   },
   "outputs": [
    {
     "name": "stdout",
     "output_type": "stream",
     "text": [
      "(1, 'Sam Smith', 24, 'english')\n",
      "(2, 'Mary Jane', 21, 'clang')\n",
      "(3, 'Tony Stark', 50, 'jarvis')\n",
      "(4, 'Steve Rogers', 32, 'english')\n",
      "(5, 'Taehwan Yang', 35, 'cplus')\n"
     ]
    }
   ],
   "source": [
    "cur = conn.cursor()\n",
    "# insert data\n",
    "cur.execute(\"INSERT INTO users (name, age, lang) \\\n",
    "VALUES ('Mary Jane', 21, 'clang')\")\n",
    "cur.execute(\"INSERT INTO users (name, age, lang) \\\n",
    "VALUES ('Tony Stark', 50, 'jarvis')\")\n",
    "cur.execute(\"INSERT INTO users (name, age, lang) \\\n",
    "VALUES ('Steve Rogers', 32, 'english')\")\n",
    "cur.execute(\"INSERT INTO users (name, age, lang) \\\n",
    "VALUES ('Taehwan Yang', 35, 'cplus')\")\n",
    "\n",
    "cur.execute(\"SELECT * FROM users\")\n",
    "rows = cur.fetchall()\n",
    "for row in rows:\n",
    "    print(row)\n",
    "# 작업내용 반영\n",
    "conn.commit()\n",
    "conn.close()"
   ]
  },
  {
   "cell_type": "code",
   "execution_count": 7,
   "metadata": {
    "collapsed": false,
    "deletable": true,
    "editable": true
   },
   "outputs": [
    {
     "name": "stdout",
     "output_type": "stream",
     "text": [
      "ID =  1\n",
      "Name =  Sam Smith\n",
      "Age =  24\n",
      "Lang =  english \n",
      "\n",
      "ID =  2\n",
      "Name =  Mary Jane\n",
      "Age =  21\n",
      "Lang =  clang \n",
      "\n",
      "ID =  3\n",
      "Name =  Tony Stark\n",
      "Age =  50\n",
      "Lang =  jarvis \n",
      "\n",
      "ID =  4\n",
      "Name =  Steve Rogers\n",
      "Age =  32\n",
      "Lang =  english \n",
      "\n",
      "ID =  5\n",
      "Name =  Taehwan Yang\n",
      "Age =  35\n",
      "Lang =  cplus \n",
      "\n",
      "print complete\n"
     ]
    }
   ],
   "source": [
    "conn = lite.connect('../users.db')\n",
    "#update data with with\n",
    "with conn:\n",
    "    cursor = conn.execute(\"select id, name, age, lang from users\")\n",
    "    for row in cursor:\n",
    "        print(\"ID = \", row[0])\n",
    "        print(\"Name = \", row[1])\n",
    "        print(\"Age = \", row[2])\n",
    "        print(\"Lang = \", row[3], \"\\n\")\n",
    "\n",
    "print(\"print complete\")\n",
    "conn.close()"
   ]
  },
  {
   "cell_type": "code",
   "execution_count": 10,
   "metadata": {
    "collapsed": false
   },
   "outputs": [
    {
     "name": "stdout",
     "output_type": "stream",
     "text": [
      "DB Connected\n",
      "Total number of rows updated :  1\n"
     ]
    }
   ],
   "source": [
    "conn = lite.connect('../users.db')\n",
    "print(\"DB Connected\")\n",
    "cur = conn.cursor()\n",
    "\n",
    "with conn:\n",
    "    conn.execute(\"update users set lang = 'python' where ID=4\")\n",
    "    conn.commit()\n",
    "    print (\"Total number of rows updated : \", conn.total_changes)"
   ]
  },
  {
   "cell_type": "code",
   "execution_count": 13,
   "metadata": {
    "collapsed": false
   },
   "outputs": [
    {
     "name": "stdout",
     "output_type": "stream",
     "text": [
      "ID =  1\n",
      "Name =  Sam Smith\n",
      "Age =  24\n",
      "Lang =  english \n",
      "\n",
      "ID =  2\n",
      "Name =  Mary Jane\n",
      "Age =  21\n",
      "Lang =  clang \n",
      "\n",
      "ID =  3\n",
      "Name =  Tony Stark\n",
      "Age =  50\n",
      "Lang =  jarvis \n",
      "\n",
      "ID =  4\n",
      "Name =  Steve Rogers\n",
      "Age =  32\n",
      "Lang =  python \n",
      "\n",
      "ID =  5\n",
      "Name =  Taehwan Yang\n",
      "Age =  35\n",
      "Lang =  cplus \n",
      "\n"
     ]
    }
   ],
   "source": [
    "with conn:\n",
    "    cursor = conn.execute(\"select id, name, age, lang from users\")\n",
    "    for row in cursor:\n",
    "        print(\"ID = \", row[0])\n",
    "        print(\"Name = \", row[1])\n",
    "        print(\"Age = \", row[2])\n",
    "        print(\"Lang = \", row[3], \"\\n\")\n",
    "conn.close()"
   ]
  },
  {
   "cell_type": "code",
   "execution_count": 15,
   "metadata": {
    "collapsed": false
   },
   "outputs": [
    {
     "name": "stdout",
     "output_type": "stream",
     "text": [
      "DB connected \n",
      "\n",
      "Total number of rows deleted : 1\n",
      "ID =  1\n",
      "Name =  Sam Smith\n",
      "Age =  24\n",
      "Lang =  english \n",
      "\n",
      "ID =  3\n",
      "Name =  Tony Stark\n",
      "Age =  50\n",
      "Lang =  jarvis \n",
      "\n",
      "ID =  4\n",
      "Name =  Steve Rogers\n",
      "Age =  32\n",
      "Lang =  python \n",
      "\n",
      "ID =  5\n",
      "Name =  Taehwan Yang\n",
      "Age =  35\n",
      "Lang =  cplus \n",
      "\n"
     ]
    }
   ],
   "source": [
    "#delete row\n",
    "conn = lite.connect('../users.db')\n",
    "print(\"DB connected \\n\")\n",
    "\n",
    "with conn:\n",
    "    conn.execute(\"DELETE from users where ID=2;\")\n",
    "    conn.commit()\n",
    "    print (\"Total number of rows deleted :\", conn.total_changes)\n",
    "\n",
    "    cursor = conn.execute(\"select id, name, age, lang from users\")\n",
    "    for row in cursor:\n",
    "        print(\"ID = \", row[0])\n",
    "        print(\"Name = \", row[1])\n",
    "        print(\"Age = \", row[2])\n",
    "        print(\"Lang = \", row[3], \"\\n\")\n",
    "conn.close()"
   ]
  }
 ],
 "metadata": {
  "kernelspec": {
   "display_name": "Python 3",
   "language": "python",
   "name": "python3"
  },
  "language_info": {
   "codemirror_mode": {
    "name": "ipython",
    "version": 3
   },
   "file_extension": ".py",
   "mimetype": "text/x-python",
   "name": "python",
   "nbconvert_exporter": "python",
   "pygments_lexer": "ipython3",
   "version": "3.6.0"
  }
 },
 "nbformat": 4,
 "nbformat_minor": 2
}
