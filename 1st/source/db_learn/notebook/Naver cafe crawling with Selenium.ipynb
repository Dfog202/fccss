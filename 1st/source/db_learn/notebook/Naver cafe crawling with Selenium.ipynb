{
 "cells": [
  {
   "cell_type": "markdown",
   "metadata": {
    "deletable": true,
    "editable": true
   },
   "source": [
    "https://github.com/SeleniumHQ/selenium/\n",
    "http://selenium-python.readthedocs.io/\n",
    "\n",
    "\n",
    "FileNotFoundError: [Errno 2] No such file or directory: 'geckodriver'\n",
    "\n",
    "https://github.com/mozilla/geckodriver/releases\n",
    "\n",
    "place it in /usr/bin or /usr/local/bin"
   ]
  },
  {
   "cell_type": "code",
   "execution_count": 22,
   "metadata": {
    "collapsed": true,
    "deletable": true,
    "editable": true
   },
   "outputs": [],
   "source": [
    "import os\n",
    "from selenium import webdriver\n",
    "from selenium.webdriver.support.ui import WebDriverWait\n",
    "from selenium.webdriver.support import expected_conditions as EC\n",
    "from selenium.webdriver.common.by import By"
   ]
  },
  {
   "cell_type": "code",
   "execution_count": 13,
   "metadata": {
    "collapsed": true
   },
   "outputs": [],
   "source": [
    "ff_driver = webdriver.Firefox()\n",
    "ff_driver.get(\"https://www.google.co.kr/\")"
   ]
  },
  {
   "cell_type": "code",
   "execution_count": 14,
   "metadata": {
    "collapsed": false,
    "deletable": true,
    "editable": true
   },
   "outputs": [],
   "source": [
    "query = ff_driver.find_element_by_id(\"lst-ib\")\n",
    "query.send_keys(\"패스트캠퍼스\")\n",
    "\n",
    "ff_driver.find_element_by_name(\"btnK\").click()\n",
    "ff_driver.implicitly_wait(10)"
   ]
  },
  {
   "cell_type": "code",
   "execution_count": 17,
   "metadata": {
    "collapsed": false,
    "deletable": true,
    "editable": true
   },
   "outputs": [
    {
     "name": "stdout",
     "output_type": "stream",
     "text": [
      "패스트캠퍼스 | 커리어 성장을 위한 최고의 실무교육 아카데미\n",
      "패스트캠퍼스 | Facebook\n",
      "패스트캠퍼스 School | Facebook\n",
      "패스트캠퍼스 기업, 투자 정보 | 로켓펀치 - 스타트업 네트워크\n",
      "패스트캠퍼스 (@fastcampus) | Twitter\n",
      "패스트캠퍼스 27건 기업리뷰, 26건 연봉정보, 12건 면접후기 | 잡플래닛\n",
      "준비된 인재와 회사를 연결하는 곳, '패스트캠퍼스' - 인벤\n"
     ]
    }
   ],
   "source": [
    "RESULTS_LOCATOR = \"//div/h3/a\"\n",
    "WebDriverWait(ff_driver, 10).until(\n",
    "    EC.visibility_of_element_located((By.XPATH, RESULTS_LOCATOR)))\n",
    "page1_results = ff_driver.find_elements(By.XPATH, RESULTS_LOCATOR)\n",
    "for item in page1_results:\n",
    "    print(item.text)"
   ]
  },
  {
   "cell_type": "code",
   "execution_count": 23,
   "metadata": {
    "collapsed": false,
    "deletable": true,
    "editable": true
   },
   "outputs": [],
   "source": [
    "ff_driver = webdriver.Firefox()\n",
    "ff_driver.get(\"https://nid.naver.com/nidlogin.login\")\n",
    "\n",
    "ff_driver.implicitly_wait(10)\n",
    "\n",
    "username = ff_driver.find_element_by_id(\"id\")\n",
    "password = ff_driver.find_element_by_id(\"pw\")\n",
    "\n",
    "username.send_keys(\"wychoi0408\")\n",
    "password.send_keys(\"xmtr32!!\")\n",
    "\n",
    "ff_driver.find_element_by_class_name(\"btn_global\").click()\n",
    "ff_driver.implicitly_wait(10)"
   ]
  },
  {
   "cell_type": "code",
   "execution_count": 24,
   "metadata": {
    "collapsed": false,
    "deletable": true,
    "editable": true
   },
   "outputs": [],
   "source": [
    "ff_driver.get(\"http://cafe.naver.com/joonggonara\")"
   ]
  },
  {
   "cell_type": "code",
   "execution_count": 25,
   "metadata": {
    "collapsed": false,
    "deletable": true,
    "editable": true
   },
   "outputs": [],
   "source": [
    "query = \"미러리스\"\n",
    "ff_driver.find_element_by_css_selector(\"#topLayerQueryInput\").send_keys(query)"
   ]
  },
  {
   "cell_type": "code",
   "execution_count": 26,
   "metadata": {
    "collapsed": true,
    "deletable": true,
    "editable": true
   },
   "outputs": [],
   "source": [
    "ff_driver.execute_script(\"searchBoard();\")"
   ]
  },
  {
   "cell_type": "code",
   "execution_count": 27,
   "metadata": {
    "collapsed": false,
    "deletable": true,
    "editable": true
   },
   "outputs": [],
   "source": [
    "ff_driver.switch_to_frame(ff_driver.find_element_by_css_selector(\"iframe#cafe_main\"))\n",
    "post_elements = ff_driver.find_elements(By.TAG_NAME, \"td.board-list\")"
   ]
  },
  {
   "cell_type": "code",
   "execution_count": 28,
   "metadata": {
    "collapsed": false,
    "deletable": true,
    "editable": true,
    "scrolled": true
   },
   "outputs": [
    {
     "data": {
      "text/plain": [
       "15"
      ]
     },
     "execution_count": 28,
     "metadata": {},
     "output_type": "execute_result"
    }
   ],
   "source": [
    "len(post_elements)"
   ]
  },
  {
   "cell_type": "code",
   "execution_count": 29,
   "metadata": {
    "collapsed": false,
    "deletable": true,
    "editable": true
   },
   "outputs": [
    {
     "name": "stdout",
     "output_type": "stream",
     "text": [
      "소니 미러리스 A5000 팝니다.\n",
      "※ 캐논 eos m10 (화이트)15-45 풀박스 A급 상태 판매합니다※ / 캐논 m10\n",
      "캐논 미러리스 M3 망원렌즈(55-200mm)+단렌즈(22mm) 팝니다.\n",
      "DSLR,미러리스,필름,디지탈카메라,렌즈외 여러가지 팝니다\n",
      "(삽니다)dslr 바디,렌즈\n",
      "(삽니다)dslr 바디,렌즈 [1]\n",
      "캐논 700D 번들셋 판매합니다^^ [1]\n",
      "캐논 EOS M3 15-45mm 렌즈 화이트 팝니다.\n",
      "[원글이 삭제된 답글]\n",
      "미러리스 소니a5100 팝니다\n",
      "(가격수정)캐논 EF-M 11-22mm (구입 한달된 제품)\n",
      "SONY 미러리스 E마운트용 SEL1650 번들렌즈, SEL 55-210망원렌즈, SIGMA 30mm 2.8(구형 삼순이) 판매합니다.\n",
      "(직거래,수원)nx300m 화이트 + 16-50ois 번들셋, 30.4mm, 85.4mm 여친렌즈 판매 [2]\n",
      "삼성 미러리스 nx500 블랙 번들셋 팝니다~ [수정] [3]\n",
      "캐논M10 grey body 39만원 !! [3]\n",
      "파나소닉 LUMIX G VARIO 7-14mm F4 ASPH(마이크로포서드/미러리스) 광각렌즈 판매합니다.\n"
     ]
    }
   ],
   "source": [
    "for item in post_elements:\n",
    "    print(item.text)"
   ]
  },
  {
   "cell_type": "code",
   "execution_count": null,
   "metadata": {
    "collapsed": true,
    "deletable": true,
    "editable": true
   },
   "outputs": [],
   "source": []
  }
 ],
 "metadata": {
  "kernelspec": {
   "display_name": "Python 3",
   "language": "python",
   "name": "python3"
  },
  "language_info": {
   "codemirror_mode": {
    "name": "ipython",
    "version": 3
   },
   "file_extension": ".py",
   "mimetype": "text/x-python",
   "name": "python",
   "nbconvert_exporter": "python",
   "pygments_lexer": "ipython3",
   "version": "3.6.0"
  }
 },
 "nbformat": 4,
 "nbformat_minor": 2
}
